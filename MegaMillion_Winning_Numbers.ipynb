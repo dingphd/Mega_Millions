{
 "cells": [
  {
   "cell_type": "code",
   "execution_count": 1,
   "id": "c7e13c89",
   "metadata": {},
   "outputs": [],
   "source": [
    "import pandas as pd\n",
    "import matplotlib.pyplot as plt\n",
    "import seaborn as sns\n"
   ]
  },
  {
   "cell_type": "code",
   "execution_count": 8,
   "id": "dfffae53",
   "metadata": {},
   "outputs": [],
   "source": [
    "# Replace 'winning_numbers.csv' with the actual path to your dataset\n",
    "df = pd.read_csv('MegaMillion_All_Winning_Numbers.csv')\n"
   ]
  },
  {
   "cell_type": "code",
   "execution_count": 9,
   "id": "e314f7c8",
   "metadata": {},
   "outputs": [],
   "source": [
    "# Assuming your dataset has columns 'WinningNumber1', 'WinningNumber2', etc.\n",
    "# If your dataset is already in a single column, skip this step.\n",
    "df['WinningNumber'] = df[['WinningNumber1', 'WinningNumber2', 'WinningNumber3', 'WinningNumber4', 'WinningNumber5']].stack().reset_index(drop=True)\n"
   ]
  },
  {
   "cell_type": "code",
   "execution_count": 10,
   "id": "02aaad86",
   "metadata": {},
   "outputs": [
    {
     "data": {
      "image/png": "[encoded data removed]",
      "text/plain": [
       "<Figure size 864x432 with 1 Axes>"
      ]
     },
     "metadata": {
      "needs_background": "light"
     },
     "output_type": "display_data"
    }
   ],
   "source": [
    "plt.figure(figsize=(12, 6))\n",
    "sns.countplot(x='WinningNumber', data=df, order=df['WinningNumber'].value_counts().index)\n",
    "plt.xlabel('Winning Numbers')\n",
    "plt.ylabel('Frequency')\n",
    "plt.title('Distribution of Winning Numbers')\n",
    "plt.xticks(rotation=90)\n",
    "plt.show()\n"
   ]
  },
  {
   "cell_type": "code",
   "execution_count": 11,
   "id": "de7aa9fa",
   "metadata": {},
   "outputs": [],
   "source": [
    "winning_number_counts = df['WinningNumber'].value_counts().reset_index()\n",
    "winning_number_counts.columns = ['WinningNumber', 'Frequency']\n",
    "sorted_winning_numbers = winning_number_counts.sort_values(by='Frequency', ascending=False)\n"
   ]
  },
  {
   "cell_type": "code",
   "execution_count": 12,
   "id": "fa4d6b16",
   "metadata": {},
   "outputs": [
    {
     "name": "stdout",
     "output_type": "stream",
     "text": [
      "    WinningNumber  Frequency\n",
      "0               3         42\n",
      "1              20         42\n",
      "2               8         41\n",
      "3              17         41\n",
      "4              46         41\n",
      "..            ...        ...\n",
      "65              1         24\n",
      "66             70         24\n",
      "67             60         24\n",
      "68             65         23\n",
      "69             49         16\n",
      "\n",
      "[70 rows x 2 columns]\n"
     ]
    }
   ],
   "source": [
    "print(sorted_winning_numbers)\n"
   ]
  },
  {
   "cell_type": "code",
   "execution_count": 13,
   "id": "9229a1ee",
   "metadata": {},
   "outputs": [],
   "source": [
    "# Assuming you have the sorted_winning_numbers DataFrame ready\n",
    "# Replace 'path/to/new_file.csv' with the desired file path and name\n",
    "sorted_winning_numbers.to_csv('sorted_winning_numbers.csv', index=True)\n"
   ]
  },
  {
   "cell_type": "code",
   "execution_count": 15,
   "id": "82203330",
   "metadata": {},
   "outputs": [
    {
     "name": "stdout",
     "output_type": "stream",
     "text": [
      "    WinningNumber  Frequency\n",
      "60             28         26\n",
      "63             23         25\n",
      "64             12         25\n",
      "61              5         25\n",
      "62             51         25\n",
      "65              1         24\n",
      "66             70         24\n",
      "67             60         24\n",
      "68             65         23\n",
      "69             49         16\n"
     ]
    }
   ],
   "source": [
    "print(sorted_winning_numbers.tail(10))"
   ]
  },
  {
   "cell_type": "code",
   "execution_count": 20,
   "id": "583cb102",
   "metadata": {},
   "outputs": [],
   "source": [
    "import numpy as np\n",
    "\n",
    "def generate_random_numbers(df, num_numbers=5):\n",
    "    # Calculate the probabilities based on the inverse of frequencies\n",
    "    probabilities = 1 / df['Frequency']\n",
    "    probabilities /= probabilities.sum()\n",
    "\n",
    "    # Generate 5 random numbers using the calculated probabilities\n",
    "    random_numbers = np.random.choice(df['WinningNumber'], size=num_numbers, p=probabilities, replace=False)\n",
    "\n",
    "    return random_numbers\n"
   ]
  },
  {
   "cell_type": "code",
   "execution_count": 22,
   "id": "ad44df3c",
   "metadata": {},
   "outputs": [
    {
     "name": "stdout",
     "output_type": "stream",
     "text": [
      "Randomly picked numbers: [49 26 29 69 30]\n"
     ]
    }
   ],
   "source": [
    "# Assuming you have the sorted_winning_numbers DataFrame ready\n",
    "# Replace 'sorted_winning_numbers' with your actual DataFrame\n",
    "random_numbers = generate_random_numbers(sorted_winning_numbers)\n",
    "\n",
    "print(\"Randomly picked numbers:\", random_numbers)\n"
   ]
  },
  {
   "cell_type": "code",
   "execution_count": 19,
   "id": "5749bf06",
   "metadata": {},
   "outputs": [
    {
     "name": "stdout",
     "output_type": "stream",
     "text": [
      "Set 1: [33 61 26  8 38]\n",
      "Set 2: [35 62 27  5 10]\n",
      "Set 3: [ 1 27 57 20 40]\n",
      "Set 4: [ 6 23 29 66 15]\n",
      "Set 5: [19 10 26 45 67]\n",
      "Set 6: [67 54 46 33 49]\n"
     ]
    }
   ],
   "source": [
    "import pandas as pd\n",
    "import numpy as np\n",
    "\n",
    "def generate_random_numbers(df, num_sets=1, num_to_pick=5):\n",
    "    all_random_numbers = []\n",
    "\n",
    "    for _ in range(num_sets):\n",
    "        # Calculate the probability distribution based on frequency\n",
    "        freq_counts = df['WinningNumber'].value_counts()\n",
    "        probabilities = 1 / (freq_counts + 1)  # Adding 1 to avoid division by zero\n",
    "\n",
    "        # Normalize the probabilities to sum up to 1\n",
    "        probabilities /= probabilities.sum()\n",
    "\n",
    "        # Generate random numbers based on the probabilities\n",
    "        random_numbers = np.random.choice(freq_counts.index, size=num_to_pick, p=probabilities, replace=False)\n",
    "        all_random_numbers.append(random_numbers)\n",
    "\n",
    "    return all_random_numbers\n",
    "\n",
    "# Assuming you have the sorted_winning_numbers DataFrame\n",
    "num_sets_to_generate = 6\n",
    "randomly_picked_numbers_sets = generate_random_numbers(sorted_winning_numbers, num_sets=num_sets_to_generate)\n",
    "\n",
    "for i, numbers_set in enumerate(randomly_picked_numbers_sets):\n",
    "    print(f\"Set {i + 1}: {numbers_set}\")\n"
   ]
  },
  {
   "cell_type": "code",
   "execution_count": 23,
   "id": "29ab9957",
   "metadata": {},
   "outputs": [],
   "source": [
    "import numpy as np\n",
    "\n",
    "def generate_random_numbers_sets(df, num_sets=5, num_numbers=5):\n",
    "    all_random_numbers = []\n",
    "\n",
    "    for _ in range(num_sets):\n",
    "        # Calculate the probabilities based on the inverse of frequencies\n",
    "        probabilities = 1 / df['Frequency']\n",
    "        probabilities /= probabilities.sum()\n",
    "\n",
    "        # Generate 'num_numbers' random numbers using the calculated probabilities\n",
    "        random_numbers = np.random.choice(df['WinningNumber'], size=num_numbers, p=probabilities, replace=False)\n",
    "\n",
    "        all_random_numbers.append(random_numbers)\n",
    "\n",
    "    return all_random_numbers\n"
   ]
  },
  {
   "cell_type": "code",
   "execution_count": 28,
   "id": "bfa56676",
   "metadata": {},
   "outputs": [
    {
     "name": "stdout",
     "output_type": "stream",
     "text": [
      "Set 1: [39 58 30 26 70]\n",
      "Set 2: [55 39 29 65 28]\n",
      "Set 3: [11 49 20 34 67]\n",
      "Set 4: [24 49 67 32 47]\n",
      "Set 5: [23 45 29 56 55]\n"
     ]
    }
   ],
   "source": [
    "# Assuming you have the sorted_winning_numbers DataFrame ready\n",
    "# Replace 'sorted_winning_numbers' with your actual DataFrame\n",
    "num_sets = 5\n",
    "random_numbers_sets = generate_random_numbers_sets(sorted_winning_numbers, num_sets=num_sets)\n",
    "\n",
    "# Display the 5 sets of randomly picked numbers\n",
    "for i, numbers in enumerate(random_numbers_sets):\n",
    "    print(f\"Set {i+1}: {numbers}\")\n"
   ]
  },
  {
   "cell_type": "code",
   "execution_count": null,
   "id": "18f9c670",
   "metadata": {},
   "outputs": [],
   "source": []
  }
 ],
 "metadata": {
  "kernelspec": {
   "display_name": "Python 3 (ipykernel)",
   "language": "python",
   "name": "python3"
  },
  "language_info": {
   "codemirror_mode": {
    "name": "ipython",
    "version": 3
   },
   "file_extension": ".py",
   "mimetype": "text/x-python",
   "name": "python",
   "nbconvert_exporter": "python",
   "pygments_lexer": "ipython3",
   "version": "3.9.7"
  }
 },
 "nbformat": 4,
 "nbformat_minor": 5
}
